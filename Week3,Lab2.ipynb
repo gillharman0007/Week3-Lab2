{
 "cells": [
  {
   "cell_type": "code",
   "execution_count": 1,
   "id": "145aaf05-1fbc-4e93-8701-4e01ee6e3251",
   "metadata": {},
   "outputs": [
    {
     "name": "stdin",
     "output_type": "stream",
     "text": [
      "Please enter the length of one side of the square\n",
      "\n",
      " 5\n"
     ]
    },
    {
     "name": "stdout",
     "output_type": "stream",
     "text": [
      "\n",
      "The area of your square is  25 \n",
      "\n",
      "\n"
     ]
    },
    {
     "data": {
      "text/plain": [
       "'\\nprint(\"My assertions are:\"\\n\"\\nj = 5 output = 25\"\\n\"\\nj = 12 output = 144\")\\n'"
      ]
     },
     "execution_count": 1,
     "metadata": {},
     "output_type": "execute_result"
    }
   ],
   "source": [
    "# Square.py\n",
    "#\n",
    "# author: A. N. Other\n",
    "# date: September 2016\n",
    "side_j = int(input(\"Please enter the length of one side of the square\\n\\n\"))\n",
    "print(\"\\nThe area of your square is \", side_j**2,\"\\n\\n\")\n",
    "# Testing\n",
    "'''\n",
    "print(\"My assertions are:\"\n",
    "\"\\nj = 5 output = 25\"\n",
    "\"\\nj = 12 output = 144\")\n",
    "'''\n"
   ]
  },
  {
   "cell_type": "code",
   "execution_count": 3,
   "id": "3595ad1b-959d-4888-a552-bf84e7dfc15a",
   "metadata": {},
   "outputs": [
    {
     "name": "stdin",
     "output_type": "stream",
     "text": [
      "Please enter the length of a\n",
      " 5\n",
      "Please enter the length of b\n",
      " 2\n"
     ]
    },
    {
     "name": "stdout",
     "output_type": "stream",
     "text": [
      "The area of your shape is  35 \n",
      "\n"
     ]
    },
    {
     "data": {
      "text/plain": [
       "'\\nprint(\"My assertions are:\"\\n\"\\na = 1, b = 4 output = 5\"\\n\"\\na = 3, b = 13 output = 4\")\\n'"
      ]
     },
     "execution_count": 3,
     "metadata": {},
     "output_type": "execute_result"
    }
   ],
   "source": [
    "# CompoundShape2.py\n",
    "#\n",
    "# author: A. N. Other\n",
    "# date: September 2016\n",
    "# getting user inputs\n",
    "a = int(input(\"Please enter the length of a\\n\"))\n",
    "b = int(input(\"Please enter the length of b\\n\"))\n",
    "# working out the 2 parts\n",
    "total_area = b * a + a ** 2\n",
    "print(\"The area of your shape is \", total_area,\"\\n\")\n",
    "# Testing\n",
    "'''\n",
    "print(\"My assertions are:\"\n",
    "\"\\na = 1, b = 4 output = 5\"\n",
    "\"\\na = 3, b = 13 output = 4\")\n",
    "'''\n"
   ]
  },
  {
   "cell_type": "code",
   "execution_count": 4,
   "id": "93fc5966-bfe6-4196-8dc3-13ca22dafb86",
   "metadata": {},
   "outputs": [
    {
     "name": "stdout",
     "output_type": "stream",
     "text": [
      "Kia Ora, this is a parking meter\n",
      "park_time time is  4  hours.\n",
      "The cost of the parking is $ 14\n"
     ]
    },
    {
     "data": {
      "text/plain": [
       "'\\npark_time = 4\\ntotal cost of parking = $14\\n'"
      ]
     },
     "execution_count": 4,
     "metadata": {},
     "output_type": "execute_result"
    }
   ],
   "source": [
    "# ParkingMeter.py\n",
    "#\n",
    "# author: A. N. Other\n",
    "# date: September 2016\n",
    "print (\"Kia Ora, this is a parking meter\")\n",
    "park_time = 4\n",
    "print (\"park_time time is \", park_time, \" hours.\")\n",
    "rate = 4\n",
    "cost = 0\n",
    "if park_time > 3:\n",
    "    cost = rate * 3\n",
    "    # drop the rate by $2\n",
    "    rate -= 2\n",
    "    # get the remainder of the parking time\n",
    "    park_time -= 3\n",
    "    # add to the current cost\n",
    "    cost += rate * park_time\n",
    "    print(\"The cost of the parking is $\", cost)\n",
    "else:\n",
    "    cost = rate * park_time\n",
    "    print (\"The cost of the parking is $\", cost)\n",
    "# test case assertion\n",
    "'''\n",
    "park_time = 4\n",
    "total cost of parking = $14\n",
    "'''\n"
   ]
  },
  {
   "cell_type": "code",
   "execution_count": 5,
   "id": "11d3b6e6-a9f2-41a1-b04e-0e3adde30a96",
   "metadata": {},
   "outputs": [
    {
     "name": "stdin",
     "output_type": "stream",
     "text": [
      "Enter the length of one side of the square:  11\n"
     ]
    },
    {
     "name": "stdout",
     "output_type": "stream",
     "text": [
      "The area of your square is 121\n"
     ]
    },
    {
     "name": "stdin",
     "output_type": "stream",
     "text": [
      "Enter the length of a:  25\n",
      "Enter the length of b:  22\n"
     ]
    },
    {
     "name": "stdout",
     "output_type": "stream",
     "text": [
      "The area of your shape is 1175\n"
     ]
    },
    {
     "name": "stdin",
     "output_type": "stream",
     "text": [
      "Enter the radius of the circle:  2.2\n"
     ]
    },
    {
     "name": "stdout",
     "output_type": "stream",
     "text": [
      "The area of your circle is 15.21\n"
     ]
    }
   ],
   "source": [
    "# Square.py\n",
    "side_j = int(input(\"Enter the length of one side of the square: \"))\n",
    "print(f\"The area of your square is {side_j**2}\")\n",
    "\n",
    "# CompoundShape2.py\n",
    "a = int(input(\"Enter the length of a: \"))\n",
    "b = int(input(\"Enter the length of b: \"))\n",
    "total_area = b * a + a ** 2\n",
    "print(f\"The area of your shape is {total_area}\")\n",
    "\n",
    "# Circle.py\n",
    "import math\n",
    "\n",
    "radius = float(input(\"Enter the radius of the circle: \"))\n",
    "area = math.pi * (radius ** 2)\n",
    "print(f\"The area of your circle is {area:.2f}\")\n",
    "\n",
    "# Assertions:\n",
    "# Square: side_j = 5 -> output = 25\n",
    "# Compound Shape: a = 2, b = 3 -> output = 10\n",
    "# Circle: radius = 3 -> output ≈ 28.27\n"
   ]
  },
  {
   "cell_type": "code",
   "execution_count": 6,
   "id": "09b29044-4f36-47f0-afe2-0468fc10f5ef",
   "metadata": {},
   "outputs": [
    {
     "name": "stdin",
     "output_type": "stream",
     "text": [
      "Enter a decibel level:  106\n"
     ]
    },
    {
     "name": "stdout",
     "output_type": "stream",
     "text": [
      "The noise at 106 dB is: Petrol lawnmower\n"
     ]
    }
   ],
   "source": [
    "# SoundLevels.py\n",
    "\n",
    "# List of noises and their corresponding decibel levels\n",
    "sound_levels = {\n",
    "    130: \"Jackhammer\",\n",
    "    106: \"Petrol lawnmower\",\n",
    "    70: \"Alarm clock\",\n",
    "    40: \"Quiet room\"\n",
    "}\n",
    "\n",
    "# Get the decibel level from the user\n",
    "decibel_level = int(input(\"Enter a decibel level: \"))\n",
    "\n",
    "# Check if the entered decibel level matches any known noise\n",
    "if decibel_level in sound_levels:\n",
    "    print(f\"The noise at {decibel_level} dB is: {sound_levels[decibel_level]}\")\n",
    "else:\n",
    "    # Handle cases where the decibel level is between two known levels\n",
    "    lower_level = None\n",
    "    upper_level = None\n",
    "\n",
    "    # Find the closest noise levels that the entered decibel is between\n",
    "    for level in sorted(sound_levels.keys()):\n",
    "        if decibel_level < level:\n",
    "            upper_level = sound_levels[level]\n",
    "            break\n",
    "        lower_level = sound_levels[level]\n",
    "\n",
    "    if lower_level and upper_level:\n",
    "        print(f\"The decibel level {decibel_level} dB is between {lower_level} and {upper_level}.\")\n",
    "    elif lower_level:\n",
    "        print(f\"The decibel level {decibel_level} dB is quieter than {lower_level}.\")\n",
    "    elif upper_level:\n",
    "        print(f\"The decibel level {decibel_level} dB is louder than {upper_level}.\")\n",
    "\n",
    "# Additional Handling for extreme values\n",
    "if decibel_level < 40:\n",
    "    print(\"This is quieter than the quietest noise listed.\")\n",
    "elif decibel_level > 130:\n",
    "    print(\"This is louder than the loudest noise listed.\")\n"
   ]
  },
  {
   "cell_type": "code",
   "execution_count": 7,
   "id": "78da828f-0645-49ec-935a-b8af052e171d",
   "metadata": {},
   "outputs": [
    {
     "name": "stdin",
     "output_type": "stream",
     "text": [
      "Enter side a of the right triangle:  50\n",
      "Enter side b of the right triangle:  90\n"
     ]
    },
    {
     "name": "stdout",
     "output_type": "stream",
     "text": [
      "The hypotenuse of your triangle is 102.96\n"
     ]
    }
   ],
   "source": [
    "# Pythagoras.py\n",
    "a = float(input(\"Enter side a of the right triangle: \"))\n",
    "b = float(input(\"Enter side b of the right triangle: \"))\n",
    "c = math.sqrt(a**2 + b**2)\n",
    "print(f\"The hypotenuse of your triangle is {c:.2f}\")\n",
    "\n",
    "# Assertion:\n",
    "# a = 3, b = 4 -> c = 5\n"
   ]
  },
  {
   "cell_type": "code",
   "execution_count": 8,
   "id": "7ff6488b-60cd-4bc7-add5-e484d3ff2737",
   "metadata": {},
   "outputs": [
    {
     "name": "stdin",
     "output_type": "stream",
     "text": [
      "Enter the distance from the school (in km):  15\n",
      "Enter the age of the student:  16\n",
      "Does the student have the right to stay in New Zealand? (yes/no):  no\n",
      "Is the student paying international fees? (yes/no):  no\n"
     ]
    },
    {
     "name": "stdout",
     "output_type": "stream",
     "text": [
      "The student cannot enrol.\n"
     ]
    }
   ],
   "source": [
    "# Enrolment.py\n",
    "distance_from_school = float(input(\"Enter the distance from the school (in km): \"))\n",
    "age = int(input(\"Enter the age of the student: \"))\n",
    "has_right_to_stay = input(\"Does the student have the right to stay in New Zealand? (yes/no): \").lower()\n",
    "is_international = input(\"Is the student paying international fees? (yes/no): \").lower()\n",
    "\n",
    "if distance_from_school < 4 and age < 18 and (has_right_to_stay == \"yes\" or is_international == \"yes\"):\n",
    "    print(\"The student can enrol.\")\n",
    "else:\n",
    "    print(\"The student cannot enrol.\")\n",
    "\n",
    "# Assertions:\n",
    "# distance_from_school = 3, age = 16, has_right_to_stay = \"yes\" -> Output: The student can enrol.\n",
    "# distance_from_school = 5, age = 17, has_right_to_stay = \"no\" -> Output: The student cannot enrol.\n"
   ]
  },
  {
   "cell_type": "code",
   "execution_count": 9,
   "id": "79435566-a77d-4821-81e2-745eff81d61a",
   "metadata": {},
   "outputs": [
    {
     "name": "stdin",
     "output_type": "stream",
     "text": [
      "Are you registered? (yes/no):  yes\n",
      "How many items are in your cart?:  12\n",
      "Are you using a guest login? (yes/no):  no\n"
     ]
    },
    {
     "name": "stdout",
     "output_type": "stream",
     "text": [
      "You can make a purchase.\n"
     ]
    }
   ],
   "source": [
    "# WebstoreCheckout.py\n",
    "is_registered = input(\"Are you registered? (yes/no): \").lower() == \"yes\"\n",
    "cart_items = int(input(\"How many items are in your cart?: \"))\n",
    "is_guest = input(\"Are you using a guest login? (yes/no): \").lower() == \"yes\"\n",
    "\n",
    "if (is_registered and cart_items > 0) or (is_guest and cart_items == 0):\n",
    "    print(\"You can make a purchase.\")\n",
    "else:\n",
    "    print(\"You cannot make a purchase.\")\n",
    "\n",
    "# Assertions:\n",
    "# is_registered = True, cart_items = 2 -> Output: You can make a purchase.\n",
    "# is_registered = False, cart_items = 0, is_guest = True -> Output: You can make a purchase.\n"
   ]
  },
  {
   "cell_type": "code",
   "execution_count": null,
   "id": "084fae35-538c-4a63-966c-ae07390ae058",
   "metadata": {},
   "outputs": [],
   "source": []
  }
 ],
 "metadata": {
  "kernelspec": {
   "display_name": "Python 3 (ipykernel)",
   "language": "python",
   "name": "python3"
  },
  "language_info": {
   "codemirror_mode": {
    "name": "ipython",
    "version": 3
   },
   "file_extension": ".py",
   "mimetype": "text/x-python",
   "name": "python",
   "nbconvert_exporter": "python",
   "pygments_lexer": "ipython3",
   "version": "3.12.7"
  }
 },
 "nbformat": 4,
 "nbformat_minor": 5
}
